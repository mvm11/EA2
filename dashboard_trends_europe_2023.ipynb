{
 "cells": [
  {
   "cell_type": "markdown",
   "id": "f0bb8feb",
   "metadata": {},
   "source": [
    "# Dashboard: Análisis de tendencias turísticas en Europa 2023\n",
    "Este cuaderno interactivo presenta un análisis completo de las tendencias de viajes en Europa durante el año 2023. Se construyó reutilizando las clases del proyecto EA2 en Python para generar y mostrar visualizaciones, facilitando la lectura y comprensión para el maestro y compañeros.\n",
    "Las visualizaciones incluyen patrones estacionales, destinos más populares, gastos y valoraciones, duración de estancias y distribución geográfica."
   ]
  },
  {
   "cell_type": "markdown",
   "id": "5387cc60",
   "metadata": {},
   "source": [
    "## Configuración e importaciones"
   ]
  },
  {
   "cell_type": "code",
   "execution_count": 1,
   "id": "72eafed1",
   "metadata": {},
   "outputs": [
    {
     "name": "stdout",
     "output_type": "stream",
     "text": [
      "Dataset: /Users/mateo/Downloads/EA2/data/dataset.csv\n",
      "Output directory: /Users/mateo/Downloads/EA2/docs\n"
     ]
    }
   ],
   "source": [
    "import os\n",
    "import sys\n",
    "from IPython.display import Image, display, IFrame\n",
    "\n",
    "# Asumimos que este .ipynb está en la carpeta raíz del proyecto “EA2”\n",
    "base_dir = os.getcwd()  # ej. /Users/tu_usuario/.../EA2\n",
    "dataset_path = os.path.join(base_dir, 'data', 'dataset.csv')\n",
    "output_dir   = os.path.join(base_dir, 'docs')\n",
    "\n",
    "print(f\"Dataset: {dataset_path}\")\n",
    "print(f\"Output directory: {output_dir}\")\n",
    "\n",
    "# Importar casos de uso (ajusta si tu carpeta “src” está en otro nivel)\n",
    "project_root = os.path.join(base_dir, 'src')\n",
    "if project_root not in sys.path:\n",
    "    sys.path.insert(0, project_root)\n",
    "\n",
    "from application.trip.get_most_popular_months_use_case import GetMostPopularMonthsUseCase\n",
    "from infrastructure.trip.get_most_popular_months_csv import GetMostPopularMonthsCSV\n",
    "from application.destination.get_most_visited_cities_use_case import GetMostVisitedCitiesUseCase\n",
    "from infrastructure.destination.get_most_visited_cities_csv import GetMostVisitedCitiesCSV\n",
    "from application.accommodation.get_average_expense_by_accommodation_use_case import GetAverageExpenseByAccommodationUseCase\n",
    "from infrastructure.accommodation.get_average_expense_by_accommodation_csv import GetAverageExpenseByAccommodationCSV\n",
    "from application.satisfaction.get_average_rating_by_country_use_case import GetAverageRatingByCountryUseCase\n",
    "from infrastructure.satisfaction.get_average_rating_by_country_csv import GetAverageRatingByCountryCSV\n",
    "from application.destination.get_average_stay_by_city_use_case import GetAverageStayByCityUseCase\n",
    "from infrastructure.destination.get_average_stay_by_city_csv import GetAverageStayByCityCSV\n",
    "from application.destination.get_longest_stays_by_destination_use_case import GetLongestStaysByDestinationUseCase\n",
    "from infrastructure.destination.get_longest_stays_by_destination_csv import GetLongestStaysByDestinationCSV\n",
    "from application.trip.get_travel_geo_distribution_use_case import GetTravelGeoDistributionUseCase\n",
    "from infrastructure.trip.get_travel_geo_distribution_csv import GetTravelGeoDistributionCSV\n",
    "from application.accommodation.get_expense_boxplot_by_accommodation_type_use_case import GetExpenseBoxplotByAccommodationTypeUseCase\n",
    "from infrastructure.accommodation.get_expense_boxplot_by_accommodation_type_csv import GetExpenseBoxplotByAccommodationTypeCSV\n",
    "from application.satisfaction.get_rating_boxplot_by_country_use_case import GetRatingBoxplotByCountryUseCase\n",
    "from infrastructure.satisfaction.get_rating_boxplot_by_country_csv import GetRatingBoxplotByCountryCSV\n"
   ]
  },
  {
   "cell_type": "markdown",
   "id": "7d4d62f0",
   "metadata": {},
   "source": [
    "## Generar todas las visualizaciones"
   ]
  },
  {
   "cell_type": "code",
   "execution_count": 2,
   "id": "311bf51b",
   "metadata": {},
   "outputs": [
    {
     "name": "stdout",
     "output_type": "stream",
     "text": [
      "[✓] Chart saved to: /Users/mateo/Downloads/EA2/docs/average_rating_by_country.png\n",
      "\n",
      "=== Average Rating by Country ===\n",
      "Alemania: 2.99/5\n",
      "España: 2.99/5\n",
      "Francia: 2.97/5\n",
      "Italia: 3.04/5\n",
      "Reino Unido: 2.95/5\n",
      "[✓] Chart saved to: /Users/mateo/Downloads/EA2/src/../docs/average_stay_by_city.png\n",
      "\n",
      "=== Average Stay Duration by City ===\n",
      "Venecia: 7.93 days\n",
      "Florencia: 7.87 days\n",
      "Lyon: 7.74 days\n",
      "Sevilla: 7.73 days\n",
      "Niza: 7.67 days\n",
      "Manchester: 7.61 days\n",
      "Colonia: 7.6 days\n",
      "Edimburgo: 7.57 days\n",
      "París: 7.5 days\n",
      "Hamburgo: 7.47 days\n",
      "Nápoles: 7.47 days\n",
      "Burdeos: 7.44 days\n",
      "Barcelona: 7.43 days\n",
      "Roma: 7.41 days\n",
      "Málaga: 7.39 days\n",
      "Frankfurt: 7.39 days\n",
      "Marsella: 7.38 days\n",
      "Valencia: 7.38 days\n",
      "Múnich: 7.36 days\n",
      "Liverpool: 7.34 days\n",
      "Berlín: 7.32 days\n",
      "Londres: 7.28 days\n",
      "Madrid: 7.25 days\n",
      "Milán: 7.2 days\n",
      "Birmingham: 7.14 days\n",
      "[✓] Chart saved to: /Users/mateo/Downloads/EA2/src/../docs/most_visited_cities.png\n",
      "\n",
      "=== Most Visited Cities ===\n",
      "Burdeos: 467 visitas\n",
      "Liverpool: 432 visitas\n",
      "Florencia: 425 visitas\n",
      "Frankfurt: 422 visitas\n",
      "Madrid: 412 visitas\n",
      "París: 410 visitas\n",
      "Nápoles: 409 visitas\n",
      "Marsella: 409 visitas\n",
      "Valencia: 409 visitas\n",
      "Berlín: 409 visitas\n",
      "[✓] Chart saved to: /Users/mateo/Downloads/EA2/src/../docs/average_expense_by_accommodation.png\n",
      "\n",
      "=== Average Daily Expense by Accommodation Type ===\n",
      "Hotel: $100.66\n",
      "Hostal: $99.78\n",
      "Apartamento: $99.73\n",
      "Casa rural: $99.66\n",
      "Albergue: $98.97\n",
      "[✓] Chart saved to: /Users/mateo/Downloads/EA2/src/../docs/average_rating_by_accommodation.png\n",
      "\n",
      "=== Average Rating by Accommodation Type ===\n",
      "Hotel: 3.03/5\n",
      "Apartamento: 2.98/5\n",
      "Albergue: 2.97/5\n",
      "Hostal: 2.94/5\n",
      "Casa rural: 2.89/5\n",
      "[✓] Chart saved to: /Users/mateo/Downloads/EA2/src/../docs/longest_stays_by_country.png\n",
      "\n",
      "=== Longest Average Stays by Country ===\n",
      "Italia: 7.58 days\n",
      "Francia: 7.54 days\n",
      "Alemania: 7.43 days\n",
      "España: 7.43 days\n",
      "Reino Unido: 7.39 days\n",
      "[✓] Interactive map saved to: /Users/mateo/Downloads/EA2/src/../docs/geo_distribution_map.html\n",
      "[✓] Dashboard saved to: /Users/mateo/Downloads/EA2/src/../docs/most_popular_months.png\n",
      "\n",
      "=== Most Popular Travel Months ===\n",
      "viajes_por_mes: {'April': 869, 'August': 858, 'December': 814, 'February': 759, 'January': 863, 'July': 841, 'June': 842, 'March': 826, 'May': 866, 'November': 842, 'October': 840, 'September': 780} viajes\n",
      "duracion_promedio_por_mes: {'April': 7.53, 'August': 7.48, 'December': 7.44, 'February': 7.62, 'January': 7.5, 'July': 7.78, 'June': 7.24, 'March': 7.37, 'May': 7.58, 'November': 7.36, 'October': 7.32, 'September': 7.47} viajes\n",
      "gasto_diario_promedio_por_mes: {'April': 99.76, 'August': 100.84, 'December': 99.94, 'February': 101.44, 'January': 98.47, 'July': 98.58, 'June': 100.42, 'March': 99.7, 'May': 100.0, 'November': 100.73, 'October': 99.85, 'September': 101.38} viajes\n",
      "valoracion_promedio_por_mes: {'April': 2.94, 'August': 3.01, 'December': 3.01, 'February': 2.98, 'January': 3.0, 'July': 2.96, 'June': 3.0, 'March': 2.99, 'May': 2.97, 'November': 3.0, 'October': 2.95, 'September': 3.05} viajes\n",
      "[✓] Chart saved to: /Users/mateo/Downloads/EA2/src/../docs/expense_boxplot_by_accommodation_type.png\n",
      "[✓] Chart saved to: /Users/mateo/Downloads/EA2/src/../docs/boxplot_rating_by_country.png\n",
      "\n",
      "Errores: /Users/mateo/Downloads/EA2/src/infrastructure/accommodation/get_expense_boxplot_by_accommodation_type_csv.py:17: FutureWarning:\n",
      "\n",
      "\n",
      "\n",
      "Passing `palette` without assigning `hue` is deprecated and will be removed in v0.14.0. Assign the `x` variable to `hue` and set `legend=False` for the same effect.\n",
      "\n",
      "\n",
      "\n"
     ]
    }
   ],
   "source": [
    "import subprocess\n",
    "\n",
    "# Ejecutar main.py para generar archivos en 'docs'\n",
    "script_path = os.path.join(os.getcwd(), 'src', 'main.py') if os.path.isdir('src') else 'main.py'\n",
    "result = subprocess.run(['python', script_path], capture_output=True, text=True)\n",
    "print(result.stdout)\n",
    "if result.stderr:\n",
    "    print('Errores:', result.stderr)\n"
   ]
  },
  {
   "cell_type": "markdown",
   "id": "5a208008",
   "metadata": {},
   "source": [
    "## Patrones estacionales de viaje\n",
    "Gráfico de barras que muestra el número de viajes por mes."
   ]
  },
  {
   "cell_type": "code",
   "execution_count": 3,
   "id": "a98a3e10",
   "metadata": {},
   "outputs": [
    {
     "data": {
      "image/png": "[encoded data removed]",
      "text/plain": [
       "<IPython.core.display.Image object>"
      ]
     },
     "metadata": {},
     "output_type": "display_data"
    }
   ],
   "source": [
    "img_path = os.path.join(output_dir, 'most_popular_months.png')\n",
    "if os.path.exists(img_path):\n",
    "    display(Image(filename=img_path))\n",
    "else:\n",
    "    print('Imagen de patrones estacionales no encontrada:', img_path)"
   ]
  },
  {
   "cell_type": "markdown",
   "id": "968641cb",
   "metadata": {},
   "source": [
    "## Destinos más populares\n",
    "Gráfico de barras horizontales que muestra las 10 ciudades más visitadas."
   ]
  },
  {
   "cell_type": "code",
   "execution_count": 4,
   "id": "a284b159",
   "metadata": {},
   "outputs": [
    {
     "data": {
      "image/png": "[encoded data removed]",
      "text/plain": [
       "<IPython.core.display.Image object>"
      ]
     },
     "metadata": {},
     "output_type": "display_data"
    }
   ],
   "source": [
    "img_path = os.path.join(output_dir, 'most_visited_cities.png')\n",
    "if os.path.exists(img_path):\n",
    "    display(Image(filename=img_path))\n",
    "else:\n",
    "    print('Imagen de destinos más populares no encontrada:', img_path)"
   ]
  },
  {
   "cell_type": "markdown",
   "id": "a154db60",
   "metadata": {},
   "source": [
    "## Relación entre tipo de alojamiento y gasto diario\n",
    "Diagrama de caja (boxplot) que muestra la distribución del gasto diario para cada tipo de alojamiento."
   ]
  },
  {
   "cell_type": "code",
   "execution_count": 5,
   "id": "c71f1979",
   "metadata": {},
   "outputs": [
    {
     "name": "stdout",
     "output_type": "stream",
     "text": [
      "[✓] Chart saved to: /Users/mateo/Downloads/EA2/docs/expense_boxplot_by_accommodation_type.png\n"
     ]
    },
    {
     "name": "stderr",
     "output_type": "stream",
     "text": [
      "/Users/mateo/Downloads/EA2/src/infrastructure/accommodation/get_expense_boxplot_by_accommodation_type_csv.py:17: FutureWarning: \n",
      "\n",
      "Passing `palette` without assigning `hue` is deprecated and will be removed in v0.14.0. Assign the `x` variable to `hue` and set `legend=False` for the same effect.\n",
      "\n",
      "  sns.boxplot(data=df, x='tipo_alojamiento', y='gasto_diario', palette=\"Set2\")\n"
     ]
    },
    {
     "data": {
      "image/png": "[encoded data removed]",
      "text/plain": [
       "<IPython.core.display.Image object>"
      ]
     },
     "metadata": {},
     "output_type": "display_data"
    },
    {
     "data": {
      "image/png": "[encoded data removed]",
      "text/plain": [
       "<Figure size 1000x600 with 1 Axes>"
      ]
     },
     "metadata": {},
     "output_type": "display_data"
    }
   ],
   "source": [
    "# Generar y mostrar boxplot de gasto diario por tipo de alojamiento\n",
    "boxplot_expense_repo = GetExpenseBoxplotByAccommodationTypeCSV(csv_path=dataset_path, output_dir=output_dir)\n",
    "boxplot_expense_use_case = GetExpenseBoxplotByAccommodationTypeUseCase(boxplot_expense_repo)\n",
    "boxplot_expense_use_case.execute()\n",
    "img_path = os.path.join(output_dir, 'expense_boxplot_by_accommodation_type.png') if os.path.exists(os.path.join(output_dir, 'expense_boxplot_by_accommodation_type.png')) else None\n",
    "if img_path and os.path.exists(img_path):\n",
    "    display(Image(filename=img_path))\n",
    "else:\n",
    "    print('Imagen de boxplot de gasto diario no encontrada.')"
   ]
  },
  {
   "cell_type": "markdown",
   "id": "0066b15e",
   "metadata": {},
   "source": [
    "## Satisfacción del cliente por país\n",
    "Diagrama de caja interactivo que muestra la distribución de las valoraciones para cada país."
   ]
  },
  {
   "cell_type": "code",
   "execution_count": 6,
   "id": "d6bd24de",
   "metadata": {},
   "outputs": [
    {
     "name": "stdout",
     "output_type": "stream",
     "text": [
      "[✓] Chart saved to: /Users/mateo/Downloads/EA2/docs/boxplot_rating_by_country.png\n",
      "Visualización interactiva de valoraciones no encontrada.\n"
     ]
    },
    {
     "data": {
      "image/png": "[encoded data removed]",
      "text/plain": [
       "<Figure size 1200x600 with 1 Axes>"
      ]
     },
     "metadata": {},
     "output_type": "display_data"
    }
   ],
   "source": [
    "# Generar y mostrar boxplot interactivo de valoraciones por país\n",
    "boxplot_rating_repo = GetRatingBoxplotByCountryCSV(csv_path=dataset_path, output_dir=output_dir)\n",
    "boxplot_rating_use_case = GetRatingBoxplotByCountryUseCase(boxplot_rating_repo)\n",
    "boxplot_rating_use_case.execute()\n",
    "html_path = os.path.join(output_dir, 'rating_boxplot_by_country.html')\n",
    "if os.path.exists(html_path):\n",
    "    display(IFrame(src=html_path, width='100%', height='500px'))\n",
    "else:\n",
    "    # Si sólo existe imagen estática\n",
    "    img_path = os.path.join(output_dir, 'rating_boxplot_by_country.png')\n",
    "    if os.path.exists(img_path):\n",
    "        display(Image(filename=img_path))\n",
    "    else:\n",
    "        print('Visualización interactiva de valoraciones no encontrada.')"
   ]
  },
  {
   "cell_type": "markdown",
   "id": "61cdffb7",
   "metadata": {},
   "source": [
    "## Duración promedio de estancia por destino\n",
    "Gráfico de barras interactivo que muestra la duración promedio de la estancia para cada ciudad."
   ]
  },
  {
   "cell_type": "code",
   "execution_count": 7,
   "id": "db80aa3d",
   "metadata": {},
   "outputs": [
    {
     "name": "stdout",
     "output_type": "stream",
     "text": [
      "[✓] Chart saved to: /Users/mateo/Downloads/EA2/docs/average_stay_by_city.png\n"
     ]
    },
    {
     "data": {
      "application/vnd.plotly.v1+json": {
       "config": {
        "linkText": "Export to plot.ly",
        "plotlyServerURL": "https://plot.ly",
        "showLink": false
       },
       "data": [
        {
         "hovertemplate": "Ciudad=%{x}<br>Duración Promedio=%{y}<extra></extra>",
         "legendgroup": "",
         "marker": {
          "color": "#636efa",
          "pattern": {
           "shape": ""
          }
         },
         "name": "",
         "orientation": "v",
         "showlegend": false,
         "textposition": "auto",
         "type": "bar",
         "x": [
          "Venecia",
          "Florencia",
          "Lyon",
          "Sevilla",
          "Niza",
          "Manchester",
          "Colonia",
          "Edimburgo",
          "París",
          "Hamburgo",
          "Nápoles",
          "Burdeos",
          "Barcelona",
          "Roma",
          "Málaga",
          "Frankfurt",
          "Marsella",
          "Valencia",
          "Múnich",
          "Liverpool",
          "Berlín",
          "Londres",
          "Madrid",
          "Milán",
          "Birmingham"
         ],
         "xaxis": "x",
         "y": {
          "bdata": "uB6F61G4H0B7FK5H4XofQPYoXI/C9R5A7FG4HoXrHkCuR+F6FK4eQHE9CtejcB5AZmZmZmZmHkBI4XoUrkceQAAAAAAAAB5A4XoUrkfhHUDhehSuR+EdQMP1KFyPwh1AuB6F61G4HUCkcD0K16MdQI/C9Shcjx1Aj8L1KFyPHUCF61G4HoUdQIXrUbgehR1AcT0K16NwHUBcj8L1KFwdQEjhehSuRx1AH4XrUbgeHUAAAAAAAAAdQM3MzMzMzBxAj8L1KFyPHEA=",
          "dtype": "f8"
         },
         "yaxis": "y"
        }
       ],
       "layout": {
        "barmode": "relative",
        "legend": {
         "tracegroupgap": 0
        },
        "template": {
         "data": {
          "bar": [
           {
            "error_x": {
             "color": "#2a3f5f"
            },
            "error_y": {
             "color": "#2a3f5f"
            },
            "marker": {
             "line": {
              "color": "#E5ECF6",
              "width": 0.5
             },
             "pattern": {
              "fillmode": "overlay",
              "size": 10,
              "solidity": 0.2
             }
            },
            "type": "bar"
           }
          ],
          "barpolar": [
           {
            "marker": {
             "line": {
              "color": "#E5ECF6",
              "width": 0.5
             },
             "pattern": {
              "fillmode": "overlay",
              "size": 10,
              "solidity": 0.2
             }
            },
            "type": "barpolar"
           }
          ],
          "carpet": [
           {
            "aaxis": {
             "endlinecolor": "#2a3f5f",
             "gridcolor": "white",
             "linecolor": "white",
             "minorgridcolor": "white",
             "startlinecolor": "#2a3f5f"
            },
            "baxis": {
             "endlinecolor": "#2a3f5f",
             "gridcolor": "white",
             "linecolor": "white",
             "minorgridcolor": "white",
             "startlinecolor": "#2a3f5f"
            },
            "type": "carpet"
           }
          ],
          "choropleth": [
           {
            "colorbar": {
             "outlinewidth": 0,
             "ticks": ""
            },
            "type": "choropleth"
           }
          ],
          "contour": [
           {
            "colorbar": {
             "outlinewidth": 0,
             "ticks": ""
            },
            "colorscale": [
             [
              0,
              "#0d0887"
             ],
             [
              0.1111111111111111,
              "#46039f"
             ],
             [
              0.2222222222222222,
              "#7201a8"
             ],
             [
              0.3333333333333333,
              "#9c179e"
             ],
             [
              0.4444444444444444,
              "#bd3786"
             ],
             [
              0.5555555555555556,
              "#d8576b"
             ],
             [
              0.6666666666666666,
              "#ed7953"
             ],
             [
              0.7777777777777778,
              "#fb9f3a"
             ],
             [
              0.8888888888888888,
              "#fdca26"
             ],
             [
              1,
              "#f0f921"
             ]
            ],
            "type": "contour"
           }
          ],
          "contourcarpet": [
           {
            "colorbar": {
             "outlinewidth": 0,
             "ticks": ""
            },
            "type": "contourcarpet"
           }
          ],
          "heatmap": [
           {
            "colorbar": {
             "outlinewidth": 0,
             "ticks": ""
            },
            "colorscale": [
             [
              0,
              "#0d0887"
             ],
             [
              0.1111111111111111,
              "#46039f"
             ],
             [
              0.2222222222222222,
              "#7201a8"
             ],
             [
              0.3333333333333333,
              "#9c179e"
             ],
             [
              0.4444444444444444,
              "#bd3786"
             ],
             [
              0.5555555555555556,
              "#d8576b"
             ],
             [
              0.6666666666666666,
              "#ed7953"
             ],
             [
              0.7777777777777778,
              "#fb9f3a"
             ],
             [
              0.8888888888888888,
              "#fdca26"
             ],
             [
              1,
              "#f0f921"
             ]
            ],
            "type": "heatmap"
           }
          ],
          "histogram": [
           {
            "marker": {
             "pattern": {
              "fillmode": "overlay",
              "size": 10,
              "solidity": 0.2
             }
            },
            "type": "histogram"
           }
          ],
          "histogram2d": [
           {
            "colorbar": {
             "outlinewidth": 0,
             "ticks": ""
            },
            "colorscale": [
             [
              0,
              "#0d0887"
             ],
             [
              0.1111111111111111,
              "#46039f"
             ],
             [
              0.2222222222222222,
              "#7201a8"
             ],
             [
              0.3333333333333333,
              "#9c179e"
             ],
             [
              0.4444444444444444,
              "#bd3786"
             ],
             [
              0.5555555555555556,
              "#d8576b"
             ],
             [
              0.6666666666666666,
              "#ed7953"
             ],
             [
              0.7777777777777778,
              "#fb9f3a"
             ],
             [
              0.8888888888888888,
              "#fdca26"
             ],
             [
              1,
              "#f0f921"
             ]
            ],
            "type": "histogram2d"
           }
          ],
          "histogram2dcontour": [
           {
            "colorbar": {
             "outlinewidth": 0,
             "ticks": ""
            },
            "colorscale": [
             [
              0,
              "#0d0887"
             ],
             [
              0.1111111111111111,
              "#46039f"
             ],
             [
              0.2222222222222222,
              "#7201a8"
             ],
             [
              0.3333333333333333,
              "#9c179e"
             ],
             [
              0.4444444444444444,
              "#bd3786"
             ],
             [
              0.5555555555555556,
              "#d8576b"
             ],
             [
              0.6666666666666666,
              "#ed7953"
             ],
             [
              0.7777777777777778,
              "#fb9f3a"
             ],
             [
              0.8888888888888888,
              "#fdca26"
             ],
             [
              1,
              "#f0f921"
             ]
            ],
            "type": "histogram2dcontour"
           }
          ],
          "mesh3d": [
           {
            "colorbar": {
             "outlinewidth": 0,
             "ticks": ""
            },
            "type": "mesh3d"
           }
          ],
          "parcoords": [
           {
            "line": {
             "colorbar": {
              "outlinewidth": 0,
              "ticks": ""
             }
            },
            "type": "parcoords"
           }
          ],
          "pie": [
           {
            "automargin": true,
            "type": "pie"
           }
          ],
          "scatter": [
           {
            "fillpattern": {
             "fillmode": "overlay",
             "size": 10,
             "solidity": 0.2
            },
            "type": "scatter"
           }
          ],
          "scatter3d": [
           {
            "line": {
             "colorbar": {
              "outlinewidth": 0,
              "ticks": ""
             }
            },
            "marker": {
             "colorbar": {
              "outlinewidth": 0,
              "ticks": ""
             }
            },
            "type": "scatter3d"
           }
          ],
          "scattercarpet": [
           {
            "marker": {
             "colorbar": {
              "outlinewidth": 0,
              "ticks": ""
             }
            },
            "type": "scattercarpet"
           }
          ],
          "scattergeo": [
           {
            "marker": {
             "colorbar": {
              "outlinewidth": 0,
              "ticks": ""
             }
            },
            "type": "scattergeo"
           }
          ],
          "scattergl": [
           {
            "marker": {
             "colorbar": {
              "outlinewidth": 0,
              "ticks": ""
             }
            },
            "type": "scattergl"
           }
          ],
          "scattermap": [
           {
            "marker": {
             "colorbar": {
              "outlinewidth": 0,
              "ticks": ""
             }
            },
            "type": "scattermap"
           }
          ],
          "scattermapbox": [
           {
            "marker": {
             "colorbar": {
              "outlinewidth": 0,
              "ticks": ""
             }
            },
            "type": "scattermapbox"
           }
          ],
          "scatterpolar": [
           {
            "marker": {
             "colorbar": {
              "outlinewidth": 0,
              "ticks": ""
             }
            },
            "type": "scatterpolar"
           }
          ],
          "scatterpolargl": [
           {
            "marker": {
             "colorbar": {
              "outlinewidth": 0,
              "ticks": ""
             }
            },
            "type": "scatterpolargl"
           }
          ],
          "scatterternary": [
           {
            "marker": {
             "colorbar": {
              "outlinewidth": 0,
              "ticks": ""
             }
            },
            "type": "scatterternary"
           }
          ],
          "surface": [
           {
            "colorbar": {
             "outlinewidth": 0,
             "ticks": ""
            },
            "colorscale": [
             [
              0,
              "#0d0887"
             ],
             [
              0.1111111111111111,
              "#46039f"
             ],
             [
              0.2222222222222222,
              "#7201a8"
             ],
             [
              0.3333333333333333,
              "#9c179e"
             ],
             [
              0.4444444444444444,
              "#bd3786"
             ],
             [
              0.5555555555555556,
              "#d8576b"
             ],
             [
              0.6666666666666666,
              "#ed7953"
             ],
             [
              0.7777777777777778,
              "#fb9f3a"
             ],
             [
              0.8888888888888888,
              "#fdca26"
             ],
             [
              1,
              "#f0f921"
             ]
            ],
            "type": "surface"
           }
          ],
          "table": [
           {
            "cells": {
             "fill": {
              "color": "#EBF0F8"
             },
             "line": {
              "color": "white"
             }
            },
            "header": {
             "fill": {
              "color": "#C8D4E3"
             },
             "line": {
              "color": "white"
             }
            },
            "type": "table"
           }
          ]
         },
         "layout": {
          "annotationdefaults": {
           "arrowcolor": "#2a3f5f",
           "arrowhead": 0,
           "arrowwidth": 1
          },
          "autotypenumbers": "strict",
          "coloraxis": {
           "colorbar": {
            "outlinewidth": 0,
            "ticks": ""
           }
          },
          "colorscale": {
           "diverging": [
            [
             0,
             "#8e0152"
            ],
            [
             0.1,
             "#c51b7d"
            ],
            [
             0.2,
             "#de77ae"
            ],
            [
             0.3,
             "#f1b6da"
            ],
            [
             0.4,
             "#fde0ef"
            ],
            [
             0.5,
             "#f7f7f7"
            ],
            [
             0.6,
             "#e6f5d0"
            ],
            [
             0.7,
             "#b8e186"
            ],
            [
             0.8,
             "#7fbc41"
            ],
            [
             0.9,
             "#4d9221"
            ],
            [
             1,
             "#276419"
            ]
           ],
           "sequential": [
            [
             0,
             "#0d0887"
            ],
            [
             0.1111111111111111,
             "#46039f"
            ],
            [
             0.2222222222222222,
             "#7201a8"
            ],
            [
             0.3333333333333333,
             "#9c179e"
            ],
            [
             0.4444444444444444,
             "#bd3786"
            ],
            [
             0.5555555555555556,
             "#d8576b"
            ],
            [
             0.6666666666666666,
             "#ed7953"
            ],
            [
             0.7777777777777778,
             "#fb9f3a"
            ],
            [
             0.8888888888888888,
             "#fdca26"
            ],
            [
             1,
             "#f0f921"
            ]
           ],
           "sequentialminus": [
            [
             0,
             "#0d0887"
            ],
            [
             0.1111111111111111,
             "#46039f"
            ],
            [
             0.2222222222222222,
             "#7201a8"
            ],
            [
             0.3333333333333333,
             "#9c179e"
            ],
            [
             0.4444444444444444,
             "#bd3786"
            ],
            [
             0.5555555555555556,
             "#d8576b"
            ],
            [
             0.6666666666666666,
             "#ed7953"
            ],
            [
             0.7777777777777778,
             "#fb9f3a"
            ],
            [
             0.8888888888888888,
             "#fdca26"
            ],
            [
             1,
             "#f0f921"
            ]
           ]
          },
          "colorway": [
           "#636efa",
           "#EF553B",
           "#00cc96",
           "#ab63fa",
           "#FFA15A",
           "#19d3f3",
           "#FF6692",
           "#B6E880",
           "#FF97FF",
           "#FECB52"
          ],
          "font": {
           "color": "#2a3f5f"
          },
          "geo": {
           "bgcolor": "white",
           "lakecolor": "white",
           "landcolor": "#E5ECF6",
           "showlakes": true,
           "showland": true,
           "subunitcolor": "white"
          },
          "hoverlabel": {
           "align": "left"
          },
          "hovermode": "closest",
          "mapbox": {
           "style": "light"
          },
          "paper_bgcolor": "white",
          "plot_bgcolor": "#E5ECF6",
          "polar": {
           "angularaxis": {
            "gridcolor": "white",
            "linecolor": "white",
            "ticks": ""
           },
           "bgcolor": "#E5ECF6",
           "radialaxis": {
            "gridcolor": "white",
            "linecolor": "white",
            "ticks": ""
           }
          },
          "scene": {
           "xaxis": {
            "backgroundcolor": "#E5ECF6",
            "gridcolor": "white",
            "gridwidth": 2,
            "linecolor": "white",
            "showbackground": true,
            "ticks": "",
            "zerolinecolor": "white"
           },
           "yaxis": {
            "backgroundcolor": "#E5ECF6",
            "gridcolor": "white",
            "gridwidth": 2,
            "linecolor": "white",
            "showbackground": true,
            "ticks": "",
            "zerolinecolor": "white"
           },
           "zaxis": {
            "backgroundcolor": "#E5ECF6",
            "gridcolor": "white",
            "gridwidth": 2,
            "linecolor": "white",
            "showbackground": true,
            "ticks": "",
            "zerolinecolor": "white"
           }
          },
          "shapedefaults": {
           "line": {
            "color": "#2a3f5f"
           }
          },
          "ternary": {
           "aaxis": {
            "gridcolor": "white",
            "linecolor": "white",
            "ticks": ""
           },
           "baxis": {
            "gridcolor": "white",
            "linecolor": "white",
            "ticks": ""
           },
           "bgcolor": "#E5ECF6",
           "caxis": {
            "gridcolor": "white",
            "linecolor": "white",
            "ticks": ""
           }
          },
          "title": {
           "x": 0.05
          },
          "xaxis": {
           "automargin": true,
           "gridcolor": "white",
           "linecolor": "white",
           "ticks": "",
           "title": {
            "standoff": 15
           },
           "zerolinecolor": "white",
           "zerolinewidth": 2
          },
          "yaxis": {
           "automargin": true,
           "gridcolor": "white",
           "linecolor": "white",
           "ticks": "",
           "title": {
            "standoff": 15
           },
           "zerolinecolor": "white",
           "zerolinewidth": 2
          }
         }
        },
        "title": {
         "text": "Duración Promedio de Estancia por Ciudad"
        },
        "xaxis": {
         "anchor": "y",
         "domain": [
          0,
          1
         ],
         "title": {
          "text": "Ciudad"
         }
        },
        "yaxis": {
         "anchor": "x",
         "domain": [
          0,
          1
         ],
         "title": {
          "text": "Duración Promedio"
         }
        }
       }
      }
     },
     "metadata": {},
     "output_type": "display_data"
    }
   ],
   "source": [
    "from plotly.offline import iplot\n",
    "import plotly.express as px\n",
    "\n",
    "# Obtener datos de duración promedio por ciudad\n",
    "stay_repo = GetAverageStayByCityCSV(csv_path=dataset_path, output_dir=output_dir)\n",
    "stay_use_case = GetAverageStayByCityUseCase(stay_repo)\n",
    "average_stays = stay_use_case.execute()\n",
    "\n",
    "import pandas as pd\n",
    "df_stays = pd.DataFrame(list(average_stays.items()), columns=['Ciudad', 'Duración Promedio'])\n",
    "fig = px.bar(df_stays.sort_values('Duración Promedio', ascending=False), x='Ciudad', y='Duración Promedio', title='Duración Promedio de Estancia por Ciudad')\n",
    "iplot(fig)\n"
   ]
  },
  {
   "cell_type": "markdown",
   "id": "2444346e",
   "metadata": {},
   "source": [
    "## Distribución geográfica de los viajes\n",
    "Mapa interactivo que muestra la ubicación de cada viaje, con color por país y tamaño por duración de estancia."
   ]
  },
  {
   "cell_type": "code",
   "execution_count": 8,
   "id": "96f82813",
   "metadata": {},
   "outputs": [
    {
     "name": "stdout",
     "output_type": "stream",
     "text": [
      "[✓] Interactive map saved to: /Users/mateo/Downloads/EA2/docs/geo_distribution_map.html\n",
      "Mapa interactivo no encontrado.\n"
     ]
    }
   ],
   "source": [
    "# Generar y mostrar mapa interactivo\n",
    "map_repo = GetTravelGeoDistributionCSV(csv_path=dataset_path, output_dir=output_dir)\n",
    "map_use_case = GetTravelGeoDistributionUseCase(map_repo)\n",
    "map_use_case.execute()\n",
    "html_map_path = os.path.join(output_dir, 'travel_geo_distribution.html')\n",
    "if os.path.exists(html_map_path):\n",
    "    display(IFrame(src=html_map_path, width='100%', height='600px'))\n",
    "else:\n",
    "    print('Mapa interactivo no encontrado.')"
   ]
  },
  {
   "cell_type": "markdown",
   "id": "757ec5ff",
   "metadata": {},
   "source": [
    "## Duración promedio de estancia por país\n",
    "Gráfico de barras que muestra la duración promedio de estancia por país."
   ]
  },
  {
   "cell_type": "code",
   "execution_count": 9,
   "id": "aeaa808a",
   "metadata": {},
   "outputs": [
    {
     "name": "stdout",
     "output_type": "stream",
     "text": [
      "[✓] Chart saved to: /Users/mateo/Downloads/EA2/docs/longest_stays_by_country.png\n"
     ]
    },
    {
     "data": {
      "application/vnd.plotly.v1+json": {
       "config": {
        "linkText": "Export to plot.ly",
        "plotlyServerURL": "https://plot.ly",
        "showLink": false
       },
       "data": [
        {
         "hovertemplate": "País=%{x}<br>Duración Promedio=%{y}<extra></extra>",
         "legendgroup": "",
         "marker": {
          "color": "#636efa",
          "pattern": {
           "shape": ""
          }
         },
         "name": "",
         "orientation": "v",
         "showlegend": false,
         "textposition": "auto",
         "type": "bar",
         "x": [
          "Italia",
          "Francia",
          "Alemania",
          "España",
          "Reino Unido"
         ],
         "xaxis": "x",
         "y": {
          "bdata": "UrgehetRHkApXI/C9SgeQLgehetRuB1AuB6F61G4HUCPwvUoXI8dQA==",
          "dtype": "f8"
         },
         "yaxis": "y"
        }
       ],
       "layout": {
        "barmode": "relative",
        "legend": {
         "tracegroupgap": 0
        },
        "template": {
         "data": {
          "bar": [
           {
            "error_x": {
             "color": "#2a3f5f"
            },
            "error_y": {
             "color": "#2a3f5f"
            },
            "marker": {
             "line": {
              "color": "#E5ECF6",
              "width": 0.5
             },
             "pattern": {
              "fillmode": "overlay",
              "size": 10,
              "solidity": 0.2
             }
            },
            "type": "bar"
           }
          ],
          "barpolar": [
           {
            "marker": {
             "line": {
              "color": "#E5ECF6",
              "width": 0.5
             },
             "pattern": {
              "fillmode": "overlay",
              "size": 10,
              "solidity": 0.2
             }
            },
            "type": "barpolar"
           }
          ],
          "carpet": [
           {
            "aaxis": {
             "endlinecolor": "#2a3f5f",
             "gridcolor": "white",
             "linecolor": "white",
             "minorgridcolor": "white",
             "startlinecolor": "#2a3f5f"
            },
            "baxis": {
             "endlinecolor": "#2a3f5f",
             "gridcolor": "white",
             "linecolor": "white",
             "minorgridcolor": "white",
             "startlinecolor": "#2a3f5f"
            },
            "type": "carpet"
           }
          ],
          "choropleth": [
           {
            "colorbar": {
             "outlinewidth": 0,
             "ticks": ""
            },
            "type": "choropleth"
           }
          ],
          "contour": [
           {
            "colorbar": {
             "outlinewidth": 0,
             "ticks": ""
            },
            "colorscale": [
             [
              0,
              "#0d0887"
             ],
             [
              0.1111111111111111,
              "#46039f"
             ],
             [
              0.2222222222222222,
              "#7201a8"
             ],
             [
              0.3333333333333333,
              "#9c179e"
             ],
             [
              0.4444444444444444,
              "#bd3786"
             ],
             [
              0.5555555555555556,
              "#d8576b"
             ],
             [
              0.6666666666666666,
              "#ed7953"
             ],
             [
              0.7777777777777778,
              "#fb9f3a"
             ],
             [
              0.8888888888888888,
              "#fdca26"
             ],
             [
              1,
              "#f0f921"
             ]
            ],
            "type": "contour"
           }
          ],
          "contourcarpet": [
           {
            "colorbar": {
             "outlinewidth": 0,
             "ticks": ""
            },
            "type": "contourcarpet"
           }
          ],
          "heatmap": [
           {
            "colorbar": {
             "outlinewidth": 0,
             "ticks": ""
            },
            "colorscale": [
             [
              0,
              "#0d0887"
             ],
             [
              0.1111111111111111,
              "#46039f"
             ],
             [
              0.2222222222222222,
              "#7201a8"
             ],
             [
              0.3333333333333333,
              "#9c179e"
             ],
             [
              0.4444444444444444,
              "#bd3786"
             ],
             [
              0.5555555555555556,
              "#d8576b"
             ],
             [
              0.6666666666666666,
              "#ed7953"
             ],
             [
              0.7777777777777778,
              "#fb9f3a"
             ],
             [
              0.8888888888888888,
              "#fdca26"
             ],
             [
              1,
              "#f0f921"
             ]
            ],
            "type": "heatmap"
           }
          ],
          "histogram": [
           {
            "marker": {
             "pattern": {
              "fillmode": "overlay",
              "size": 10,
              "solidity": 0.2
             }
            },
            "type": "histogram"
           }
          ],
          "histogram2d": [
           {
            "colorbar": {
             "outlinewidth": 0,
             "ticks": ""
            },
            "colorscale": [
             [
              0,
              "#0d0887"
             ],
             [
              0.1111111111111111,
              "#46039f"
             ],
             [
              0.2222222222222222,
              "#7201a8"
             ],
             [
              0.3333333333333333,
              "#9c179e"
             ],
             [
              0.4444444444444444,
              "#bd3786"
             ],
             [
              0.5555555555555556,
              "#d8576b"
             ],
             [
              0.6666666666666666,
              "#ed7953"
             ],
             [
              0.7777777777777778,
              "#fb9f3a"
             ],
             [
              0.8888888888888888,
              "#fdca26"
             ],
             [
              1,
              "#f0f921"
             ]
            ],
            "type": "histogram2d"
           }
          ],
          "histogram2dcontour": [
           {
            "colorbar": {
             "outlinewidth": 0,
             "ticks": ""
            },
            "colorscale": [
             [
              0,
              "#0d0887"
             ],
             [
              0.1111111111111111,
              "#46039f"
             ],
             [
              0.2222222222222222,
              "#7201a8"
             ],
             [
              0.3333333333333333,
              "#9c179e"
             ],
             [
              0.4444444444444444,
              "#bd3786"
             ],
             [
              0.5555555555555556,
              "#d8576b"
             ],
             [
              0.6666666666666666,
              "#ed7953"
             ],
             [
              0.7777777777777778,
              "#fb9f3a"
             ],
             [
              0.8888888888888888,
              "#fdca26"
             ],
             [
              1,
              "#f0f921"
             ]
            ],
            "type": "histogram2dcontour"
           }
          ],
          "mesh3d": [
           {
            "colorbar": {
             "outlinewidth": 0,
             "ticks": ""
            },
            "type": "mesh3d"
           }
          ],
          "parcoords": [
           {
            "line": {
             "colorbar": {
              "outlinewidth": 0,
              "ticks": ""
             }
            },
            "type": "parcoords"
           }
          ],
          "pie": [
           {
            "automargin": true,
            "type": "pie"
           }
          ],
          "scatter": [
           {
            "fillpattern": {
             "fillmode": "overlay",
             "size": 10,
             "solidity": 0.2
            },
            "type": "scatter"
           }
          ],
          "scatter3d": [
           {
            "line": {
             "colorbar": {
              "outlinewidth": 0,
              "ticks": ""
             }
            },
            "marker": {
             "colorbar": {
              "outlinewidth": 0,
              "ticks": ""
             }
            },
            "type": "scatter3d"
           }
          ],
          "scattercarpet": [
           {
            "marker": {
             "colorbar": {
              "outlinewidth": 0,
              "ticks": ""
             }
            },
            "type": "scattercarpet"
           }
          ],
          "scattergeo": [
           {
            "marker": {
             "colorbar": {
              "outlinewidth": 0,
              "ticks": ""
             }
            },
            "type": "scattergeo"
           }
          ],
          "scattergl": [
           {
            "marker": {
             "colorbar": {
              "outlinewidth": 0,
              "ticks": ""
             }
            },
            "type": "scattergl"
           }
          ],
          "scattermap": [
           {
            "marker": {
             "colorbar": {
              "outlinewidth": 0,
              "ticks": ""
             }
            },
            "type": "scattermap"
           }
          ],
          "scattermapbox": [
           {
            "marker": {
             "colorbar": {
              "outlinewidth": 0,
              "ticks": ""
             }
            },
            "type": "scattermapbox"
           }
          ],
          "scatterpolar": [
           {
            "marker": {
             "colorbar": {
              "outlinewidth": 0,
              "ticks": ""
             }
            },
            "type": "scatterpolar"
           }
          ],
          "scatterpolargl": [
           {
            "marker": {
             "colorbar": {
              "outlinewidth": 0,
              "ticks": ""
             }
            },
            "type": "scatterpolargl"
           }
          ],
          "scatterternary": [
           {
            "marker": {
             "colorbar": {
              "outlinewidth": 0,
              "ticks": ""
             }
            },
            "type": "scatterternary"
           }
          ],
          "surface": [
           {
            "colorbar": {
             "outlinewidth": 0,
             "ticks": ""
            },
            "colorscale": [
             [
              0,
              "#0d0887"
             ],
             [
              0.1111111111111111,
              "#46039f"
             ],
             [
              0.2222222222222222,
              "#7201a8"
             ],
             [
              0.3333333333333333,
              "#9c179e"
             ],
             [
              0.4444444444444444,
              "#bd3786"
             ],
             [
              0.5555555555555556,
              "#d8576b"
             ],
             [
              0.6666666666666666,
              "#ed7953"
             ],
             [
              0.7777777777777778,
              "#fb9f3a"
             ],
             [
              0.8888888888888888,
              "#fdca26"
             ],
             [
              1,
              "#f0f921"
             ]
            ],
            "type": "surface"
           }
          ],
          "table": [
           {
            "cells": {
             "fill": {
              "color": "#EBF0F8"
             },
             "line": {
              "color": "white"
             }
            },
            "header": {
             "fill": {
              "color": "#C8D4E3"
             },
             "line": {
              "color": "white"
             }
            },
            "type": "table"
           }
          ]
         },
         "layout": {
          "annotationdefaults": {
           "arrowcolor": "#2a3f5f",
           "arrowhead": 0,
           "arrowwidth": 1
          },
          "autotypenumbers": "strict",
          "coloraxis": {
           "colorbar": {
            "outlinewidth": 0,
            "ticks": ""
           }
          },
          "colorscale": {
           "diverging": [
            [
             0,
             "#8e0152"
            ],
            [
             0.1,
             "#c51b7d"
            ],
            [
             0.2,
             "#de77ae"
            ],
            [
             0.3,
             "#f1b6da"
            ],
            [
             0.4,
             "#fde0ef"
            ],
            [
             0.5,
             "#f7f7f7"
            ],
            [
             0.6,
             "#e6f5d0"
            ],
            [
             0.7,
             "#b8e186"
            ],
            [
             0.8,
             "#7fbc41"
            ],
            [
             0.9,
             "#4d9221"
            ],
            [
             1,
             "#276419"
            ]
           ],
           "sequential": [
            [
             0,
             "#0d0887"
            ],
            [
             0.1111111111111111,
             "#46039f"
            ],
            [
             0.2222222222222222,
             "#7201a8"
            ],
            [
             0.3333333333333333,
             "#9c179e"
            ],
            [
             0.4444444444444444,
             "#bd3786"
            ],
            [
             0.5555555555555556,
             "#d8576b"
            ],
            [
             0.6666666666666666,
             "#ed7953"
            ],
            [
             0.7777777777777778,
             "#fb9f3a"
            ],
            [
             0.8888888888888888,
             "#fdca26"
            ],
            [
             1,
             "#f0f921"
            ]
           ],
           "sequentialminus": [
            [
             0,
             "#0d0887"
            ],
            [
             0.1111111111111111,
             "#46039f"
            ],
            [
             0.2222222222222222,
             "#7201a8"
            ],
            [
             0.3333333333333333,
             "#9c179e"
            ],
            [
             0.4444444444444444,
             "#bd3786"
            ],
            [
             0.5555555555555556,
             "#d8576b"
            ],
            [
             0.6666666666666666,
             "#ed7953"
            ],
            [
             0.7777777777777778,
             "#fb9f3a"
            ],
            [
             0.8888888888888888,
             "#fdca26"
            ],
            [
             1,
             "#f0f921"
            ]
           ]
          },
          "colorway": [
           "#636efa",
           "#EF553B",
           "#00cc96",
           "#ab63fa",
           "#FFA15A",
           "#19d3f3",
           "#FF6692",
           "#B6E880",
           "#FF97FF",
           "#FECB52"
          ],
          "font": {
           "color": "#2a3f5f"
          },
          "geo": {
           "bgcolor": "white",
           "lakecolor": "white",
           "landcolor": "#E5ECF6",
           "showlakes": true,
           "showland": true,
           "subunitcolor": "white"
          },
          "hoverlabel": {
           "align": "left"
          },
          "hovermode": "closest",
          "mapbox": {
           "style": "light"
          },
          "paper_bgcolor": "white",
          "plot_bgcolor": "#E5ECF6",
          "polar": {
           "angularaxis": {
            "gridcolor": "white",
            "linecolor": "white",
            "ticks": ""
           },
           "bgcolor": "#E5ECF6",
           "radialaxis": {
            "gridcolor": "white",
            "linecolor": "white",
            "ticks": ""
           }
          },
          "scene": {
           "xaxis": {
            "backgroundcolor": "#E5ECF6",
            "gridcolor": "white",
            "gridwidth": 2,
            "linecolor": "white",
            "showbackground": true,
            "ticks": "",
            "zerolinecolor": "white"
           },
           "yaxis": {
            "backgroundcolor": "#E5ECF6",
            "gridcolor": "white",
            "gridwidth": 2,
            "linecolor": "white",
            "showbackground": true,
            "ticks": "",
            "zerolinecolor": "white"
           },
           "zaxis": {
            "backgroundcolor": "#E5ECF6",
            "gridcolor": "white",
            "gridwidth": 2,
            "linecolor": "white",
            "showbackground": true,
            "ticks": "",
            "zerolinecolor": "white"
           }
          },
          "shapedefaults": {
           "line": {
            "color": "#2a3f5f"
           }
          },
          "ternary": {
           "aaxis": {
            "gridcolor": "white",
            "linecolor": "white",
            "ticks": ""
           },
           "baxis": {
            "gridcolor": "white",
            "linecolor": "white",
            "ticks": ""
           },
           "bgcolor": "#E5ECF6",
           "caxis": {
            "gridcolor": "white",
            "linecolor": "white",
            "ticks": ""
           }
          },
          "title": {
           "x": 0.05
          },
          "xaxis": {
           "automargin": true,
           "gridcolor": "white",
           "linecolor": "white",
           "ticks": "",
           "title": {
            "standoff": 15
           },
           "zerolinecolor": "white",
           "zerolinewidth": 2
          },
          "yaxis": {
           "automargin": true,
           "gridcolor": "white",
           "linecolor": "white",
           "ticks": "",
           "title": {
            "standoff": 15
           },
           "zerolinecolor": "white",
           "zerolinewidth": 2
          }
         }
        },
        "title": {
         "text": "Duración Promedio por País"
        },
        "xaxis": {
         "anchor": "y",
         "domain": [
          0,
          1
         ],
         "title": {
          "text": "País"
         }
        },
        "yaxis": {
         "anchor": "x",
         "domain": [
          0,
          1
         ],
         "title": {
          "text": "Duración Promedio"
         }
        }
       }
      }
     },
     "metadata": {},
     "output_type": "display_data"
    }
   ],
   "source": [
    "# Obtener y mostrar duración promedio por país\n",
    "longest_repo = GetLongestStaysByDestinationCSV(csv_path=dataset_path, output_dir=output_dir)\n",
    "longest_use_case = GetLongestStaysByDestinationUseCase(longest_repo)\n",
    "longest_stays = longest_use_case.execute()\n",
    "df_longest = pd.DataFrame(list(longest_stays.items()), columns=['País', 'Duración Promedio'])\n",
    "fig2 = px.bar(df_longest.sort_values('Duración Promedio', ascending=False), x='País', y='Duración Promedio', title='Duración Promedio por País')\n",
    "iplot(fig2)\n"
   ]
  }
 ],
 "metadata": {
  "kernelspec": {
   "display_name": "Python 3",
   "language": "python",
   "name": "python3"
  },
  "language_info": {
   "codemirror_mode": {
    "name": "ipython",
    "version": 3
   },
   "file_extension": ".py",
   "mimetype": "text/x-python",
   "name": "python",
   "nbconvert_exporter": "python",
   "pygments_lexer": "ipython3",
   "version": "3.10.10"
  }
 },
 "nbformat": 4,
 "nbformat_minor": 5
}
